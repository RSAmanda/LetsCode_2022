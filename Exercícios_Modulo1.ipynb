{
 "cells": [
  {
   "cell_type": "markdown",
   "id": "dbc765bd",
   "metadata": {},
   "source": [
    "# Exercício 1"
   ]
  },
  {
   "cell_type": "markdown",
   "id": "210f0db7",
   "metadata": {},
   "source": [
    "Faça um programa que peça um valor monetário e diminua-o em 15%. Seu programa deve imprimir a mensagem “O novo valor é [valor]”."
   ]
  },
  {
   "cell_type": "code",
   "execution_count": 3,
   "id": "5ceac642",
   "metadata": {
    "scrolled": true
   },
   "outputs": [
    {
     "name": "stdout",
     "output_type": "stream",
     "text": [
      "Insira um valor monetário R$ 50\n",
      "Informe o desconto em porcentagem: 15\n",
      "O valor é: R$ 42.50\n"
     ]
    }
   ],
   "source": [
    "valorOriginal = float(input(\"Insira um valor monetário R$ \"))\n",
    "desconto = float(input(\"Informe o desconto em porcentagem: \"))\n",
    "valorComDesc = valorOriginal*(1 - desconto/100)\n",
    "#print(\"O valor é: \", valorComDesc)\n",
    "print(\"O valor é: R$ {:.2f}\".format(valorComDesc))"
   ]
  },
  {
   "cell_type": "markdown",
   "id": "165bc1db",
   "metadata": {},
   "source": [
    "# Exercício 2"
   ]
  },
  {
   "cell_type": "markdown",
   "id": "850ca4af",
   "metadata": {},
   "source": [
    "Faça um programa que leia a validade das informações:\n",
    "\n",
    "a. Idade: entre 0 e 150;\n",
    "\n",
    "b. Salário: maior que 0;\n",
    "\n",
    "c. Sexo: M, F ou Outro;\n",
    "\n",
    "O programa deve imprimir uma mensagem de erro para cada informação\n",
    "inválida."
   ]
  },
  {
   "cell_type": "code",
   "execution_count": 24,
   "id": "229facb9",
   "metadata": {},
   "outputs": [
    {
     "name": "stdout",
     "output_type": "stream",
     "text": [
      "Informe uma idade entre 0 e 150 anos: 20\n",
      "Idade válida\n",
      "Informe uma salário maior que 0: 1200\n",
      "Salário válido\n",
      "Informe o sexo: M, F ou Outro: h\n",
      "Salário inválido\n",
      "Informe o sexo: M, F ou Outro: m\n",
      "Salário válido\n"
     ]
    }
   ],
   "source": [
    "contador = 0 \n",
    "while contador < 1:\n",
    "    info = int(input(\"Informe uma idade entre 0 e 150 anos: \"))\n",
    "    if(info>= 0 and info<= 150):\n",
    "        print(\"Idade válida\")\n",
    "        contador+=1\n",
    "    else:\n",
    "        print(\"Idade inválida\")\n",
    "\n",
    "contador = 0 \n",
    "while contador < 1:\n",
    "    info = float(input(\"Informe uma salário maior que 0: \"))\n",
    "    if(info> 0):\n",
    "        print(\"Salário válido\")\n",
    "        contador+=1\n",
    "    else:\n",
    "        print(\"Salário inválido\")\n",
    "        \n",
    "contador = 0 \n",
    "while contador < 1:\n",
    "    info = str(input(\"Informe o sexo: M, F ou Outro: \"))\n",
    "    if(info.capitalize() == (\"M\" or \"F\" or \"Outro\")):\n",
    "        print(\"Sexo válido\")\n",
    "        contador+=1\n",
    "    else:\n",
    "        print(\"Sexo inválido\")"
   ]
  },
  {
   "cell_type": "markdown",
   "id": "1fd7b4e2",
   "metadata": {},
   "source": [
    "# Exercício 3"
   ]
  },
  {
   "cell_type": "markdown",
   "id": "56ea78c6",
   "metadata": {},
   "source": [
    "Vamos fazer um programa para verificar quem é o assassino de um crime.\n",
    "\n",
    "Para descobrir o assassino, a polícia faz um pequeno questionário com 5 perguntas onde a resposta só pode ser sim ou não:\n",
    "\n",
    "\n",
    "a. Mora perto da vítima?\n",
    "\n",
    "b. Já trabalhou com a vítima?\n",
    "\n",
    "c. Telefonou para a vítima?\n",
    "\n",
    "d. Esteve no local do crime?\n",
    "\n",
    "e. Devia para a vítima?\n",
    "\n",
    "\n",
    "Cada resposta sim dá um ponto para o suspeito. A polícia considera que os suspeitos com 5 pontos são os assassinos, com 4 a 3 pontos são cúmplices e 2 pontos são apenas suspeitos, necessitando outras investigações. Valores iguais ou abaixo de 1 são liberados."
   ]
  },
  {
   "cell_type": "code",
   "execution_count": 139,
   "id": "46446cb9",
   "metadata": {},
   "outputs": [],
   "source": [
    "del(respostas)"
   ]
  },
  {
   "cell_type": "code",
   "execution_count": 147,
   "id": "55798fe0",
   "metadata": {},
   "outputs": [],
   "source": [
    "respostas = list()"
   ]
  },
  {
   "cell_type": "code",
   "execution_count": 158,
   "id": "8c7fd737",
   "metadata": {},
   "outputs": [
    {
     "name": "stdout",
     "output_type": "stream",
     "text": [
      "Mora perto da vítima: \n",
      " Sim ou Não \n",
      "n\n",
      "Já trabalhou com a Vítima: \n",
      " Sim ou Não \n",
      "n\n",
      "Telefonou para a vítima: \n",
      " Sim ou Não \n",
      "n\n",
      "Esteve no local do crime: \n",
      " Sim ou Não \n",
      "n\n",
      "Devia para a vítima: \n",
      " Sim ou Não \n",
      "n\n",
      "\n",
      " \n",
      " Baseado nas suas respostas, você está liberado\n",
      "\n"
     ]
    }
   ],
   "source": [
    "resp = str(input(\"Moda perto da vítima: \\n Sim ou Não \\n\")).upper()[0]\n",
    "respostas[0]= resp\n",
    "resp = str(input(\"Já trabalhou com a Vítima: \\n Sim ou Não \\n\")).upper()[0]\n",
    "respostas[1]= resp\n",
    "resp = str(input(\"Telefonou para a vítima: \\n Sim ou Não \\n\")).upper()[0]\n",
    "respostas[2]= resp\n",
    "resp = str(input(\"Esteve no local do crime: \\n Sim ou Não \\n\")).upper()[0]\n",
    "respostas[3]= resp\n",
    "resp = str(input(\"Devia para a vítima: \\n Sim ou Não \\n\")).upper()[0]\n",
    "respostas[4]= resp\n",
    "\n",
    "print(\"\\n \\n Baseado nas suas respostas, você \", end = '')\n",
    "if respostas.count('S')==5:\n",
    "    print(\"é o assassino!\\n\")\n",
    "elif respostas.count('S')==4 or respostas.count('S')==3:\n",
    "    print(\" é cumplice\\n\")\n",
    "elif respostas.count('S')==2:\n",
    "    print(\"é suspeito\\n\")\n",
    "else:\n",
    "    print(\"está liberado\\n\")"
   ]
  },
  {
   "cell_type": "markdown",
   "id": "0442200b",
   "metadata": {},
   "source": [
    "# Exercício 4"
   ]
  },
  {
   "cell_type": "markdown",
   "id": "a90fb99b",
   "metadata": {},
   "source": [
    "Faça um programa que imprima a tabuada do 9 (de 9 *1 a 9 *10) usando loops."
   ]
  },
  {
   "cell_type": "code",
   "execution_count": 159,
   "id": "61b9cf34",
   "metadata": {},
   "outputs": [
    {
     "name": "stdout",
     "output_type": "stream",
     "text": [
      "1 x 9 =  1\n",
      "2 x 9 =  2\n",
      "3 x 9 =  3\n",
      "4 x 9 =  4\n",
      "5 x 9 =  5\n",
      "6 x 9 =  6\n",
      "7 x 9 =  7\n",
      "8 x 9 =  8\n",
      "9 x 9 =  9\n",
      "10 x 9 =  10\n"
     ]
    }
   ],
   "source": [
    "n=0\n",
    "while n <10:\n",
    "    n+=1\n",
    "    print(n, \"x 9 = \", n)\n",
    "        "
   ]
  }
 ],
 "metadata": {
  "kernelspec": {
   "display_name": "Python 3",
   "language": "python",
   "name": "python3"
  },
  "language_info": {
   "codemirror_mode": {
    "name": "ipython",
    "version": 3
   },
   "file_extension": ".py",
   "mimetype": "text/x-python",
   "name": "python",
   "nbconvert_exporter": "python",
   "pygments_lexer": "ipython3",
   "version": "3.8.8"
  }
 },
 "nbformat": 4,
 "nbformat_minor": 5
}
