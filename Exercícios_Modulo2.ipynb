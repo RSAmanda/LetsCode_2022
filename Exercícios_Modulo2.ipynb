{
 "cells": [
  {
   "cell_type": "markdown",
   "id": "beb54151",
   "metadata": {},
   "source": [
    "# Exercício 1"
   ]
  },
  {
   "cell_type": "markdown",
   "id": "2594f758",
   "metadata": {},
   "source": [
    "Faça um programa que olhe todos os itens de uma lista e diga quantos deles são pares."
   ]
  },
  {
   "cell_type": "code",
   "execution_count": 24,
   "id": "127d5b24",
   "metadata": {},
   "outputs": [
    {
     "name": "stdout",
     "output_type": "stream",
     "text": [
      "Diga um número ou X para sair: \n",
      "2\n",
      "Diga um número ou X para sair: \n",
      "4\n",
      "Diga um número ou X para sair: \n",
      "5\n",
      "Diga um número ou X para sair: \n",
      "6\n",
      "Diga um número ou X para sair: \n",
      "7\n",
      "Diga um número ou X para sair: \n",
      "8\n",
      "Diga um número ou X para sair: \n",
      "x\n",
      "Agora iremos avaliar quantos são pares\n",
      "2  é par.\n",
      "4  é par.\n",
      "5  é ímpar.\n",
      "6  é par.\n",
      "7  é ímpar.\n",
      "8  é par.\n"
     ]
    }
   ],
   "source": [
    "numeros = list()\n",
    "while(True):\n",
    "    resp = input(\"Diga um número ou X para sair: \\n\")\n",
    "    if(resp.upper() == \"X\"):\n",
    "        print(\"Agora iremos avaliar quantos são pares\")\n",
    "        break\n",
    "    numeros.append(int(resp))\n",
    "for i in numeros:\n",
    "    if i%2 == 0:\n",
    "        print(i, ' é par.')\n",
    "    else:\n",
    "        print(i, ' é ímpar.')"
   ]
  },
  {
   "cell_type": "markdown",
   "id": "3a47f6c6",
   "metadata": {},
   "source": [
    "# Exercício 2"
   ]
  },
  {
   "cell_type": "markdown",
   "id": "f108982e",
   "metadata": {},
   "source": [
    "Faça um programa que peça para o usuário digitar uma palavra e imprima cada letra em uma linha."
   ]
  },
  {
   "cell_type": "code",
   "execution_count": 43,
   "id": "bec69146",
   "metadata": {},
   "outputs": [
    {
     "name": "stdout",
     "output_type": "stream",
     "text": [
      "Digite uma palavra: \tamanda\n",
      "a\n",
      "m\n",
      "a\n",
      "n\n",
      "d\n",
      "a\n"
     ]
    }
   ],
   "source": [
    "resp = input(\"Digite uma palavra: \\t\")\n",
    "for i in range(len(resp)):\n",
    "    print(resp[i])"
   ]
  },
  {
   "cell_type": "markdown",
   "id": "97c03b42",
   "metadata": {},
   "source": [
    "# Exercício 3"
   ]
  },
  {
   "cell_type": "markdown",
   "id": "a2c6d782",
   "metadata": {},
   "source": [
    "Faça uma função que recebe duas listas e retorna a soma item a item dessas listas.\n",
    "\n",
    "\n",
    "Exemplo: Se a função receber as listas [1,4,3] e [3,5,1], então a função deve retornar [1+3, 4+5, 3+1] = [4, 9, 4]."
   ]
  },
  {
   "cell_type": "code",
   "execution_count": 59,
   "id": "000f9a86",
   "metadata": {},
   "outputs": [
    {
     "name": "stdout",
     "output_type": "stream",
     "text": [
      "Quantos elementos terá em cada lista? \t1\n",
      "Preenchendo a primeira lista: \n",
      "\n",
      "1 º Elemento da lista 1:\t3\n",
      "Preenchendo a segunda lista: \n",
      "\n",
      "1 º Elemento da lista 2:\t5\n",
      "\n",
      " \n",
      " A lista resultante será\n",
      "[8]\n"
     ]
    }
   ],
   "source": [
    "del(lista1, lista2,listaResp)\n",
    "lista1 = list()\n",
    "lista2 = list()\n",
    "listaResp = list()\n",
    "tam = int(input(\"Quantos elementos terá em cada lista? \\t\"))\n",
    "\n",
    "print(\"Preenchendo a primeira lista: \\n\")\n",
    "for i in range(tam):\n",
    "    print(i+1,\"º Elemento da lista 1:\", end ='\\t')\n",
    "    lista1.append(int(input()))\n",
    "    \n",
    "print(\"Preenchendo a segunda lista: \\n\")\n",
    "for i in range(tam):\n",
    "    print(i+1,\"º Elemento da lista 2:\", end ='\\t')\n",
    "    lista2.append(int(input()))\n",
    "    \n",
    "for i in range(tam):\n",
    "    listaResp.append(lista1[i]+lista2[i])\n",
    "\n",
    "print(\"\\n \\n A lista resultante será\")\n",
    "print(listaResp)"
   ]
  },
  {
   "cell_type": "markdown",
   "id": "ea260f24",
   "metadata": {},
   "source": [
    "# Exercício 4"
   ]
  },
  {
   "cell_type": "markdown",
   "id": "f96d7bf1",
   "metadata": {},
   "source": [
    "Crie um dicionário cujas chaves são os meses do ano e os valores são a duração (em dias) de cada mês."
   ]
  },
  {
   "cell_type": "code",
   "execution_count": 60,
   "id": "87cb2873",
   "metadata": {},
   "outputs": [],
   "source": [
    "infoMeses = {\"janeiro\": 31,\n",
    "            \"fevereiro\": 28,\n",
    "            \"março\": 31,\n",
    "            \"abril\": 30,\n",
    "            \"maio\": 31,\n",
    "            \"junho\": 30,\n",
    "            \"julho\": 31,\n",
    "            \"agosto\": 31,\n",
    "            \"setembro\": 30,\n",
    "            \"outubro\": 31,\n",
    "            \"novembro\": 30,\n",
    "            \"dezembro\": 31}"
   ]
  },
  {
   "cell_type": "code",
   "execution_count": 62,
   "id": "4a1c4e8b",
   "metadata": {},
   "outputs": [
    {
     "data": {
      "text/plain": [
       "dict"
      ]
     },
     "execution_count": 62,
     "metadata": {},
     "output_type": "execute_result"
    }
   ],
   "source": [
    "type(infoMeses)"
   ]
  },
  {
   "cell_type": "markdown",
   "id": "d726d73b",
   "metadata": {},
   "source": [
    "# Exercício 5"
   ]
  },
  {
   "cell_type": "markdown",
   "id": "f4e5f11a",
   "metadata": {},
   "source": [
    "Imprima as chaves seguidas dos seus valores para dicionário criado no exercício anterior.\n",
    "\n",
    "Exemplo:\n",
    "\n",
    "Janeiro - 31\n",
    "\n",
    "Fevereiro - 28\n",
    "\n",
    "Março - 31\n",
    "\n",
    "Etc..."
   ]
  },
  {
   "cell_type": "code",
   "execution_count": 71,
   "id": "d385821b",
   "metadata": {},
   "outputs": [
    {
     "name": "stdout",
     "output_type": "stream",
     "text": [
      "janeiro - 31\n",
      "fevereiro - 28\n",
      "março - 31\n",
      "abril - 30\n",
      "maio - 31\n",
      "junho - 30\n",
      "julho - 31\n",
      "agosto - 31\n",
      "setembro - 30\n",
      "outubro - 31\n",
      "novembro - 30\n",
      "dezembro - 31\n"
     ]
    }
   ],
   "source": [
    "for i in infoMeses:\n",
    "    print(f'{i} - {infoMeses[i]}')"
   ]
  }
 ],
 "metadata": {
  "kernelspec": {
   "display_name": "Python 3",
   "language": "python",
   "name": "python3"
  },
  "language_info": {
   "codemirror_mode": {
    "name": "ipython",
    "version": 3
   },
   "file_extension": ".py",
   "mimetype": "text/x-python",
   "name": "python",
   "nbconvert_exporter": "python",
   "pygments_lexer": "ipython3",
   "version": "3.8.8"
  }
 },
 "nbformat": 4,
 "nbformat_minor": 5
}
