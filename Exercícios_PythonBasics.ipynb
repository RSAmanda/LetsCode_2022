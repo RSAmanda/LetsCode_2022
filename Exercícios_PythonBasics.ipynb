{
 "cells": [
  {
   "cell_type": "markdown",
   "id": "38b0a030",
   "metadata": {},
   "source": [
    "# exercício aula 4 - operadores"
   ]
  },
  {
   "cell_type": "markdown",
   "id": "0c381f71",
   "metadata": {},
   "source": [
    "classificar se a variável é par ou ímpar e se é menor que 100 ou maior ou igual a 100"
   ]
  },
  {
   "cell_type": "code",
   "execution_count": 6,
   "id": "bd41ee7c",
   "metadata": {},
   "outputs": [],
   "source": [
    "x = 11"
   ]
  },
  {
   "cell_type": "code",
   "execution_count": 7,
   "id": "7da2aa42",
   "metadata": {},
   "outputs": [
    {
     "data": {
      "text/plain": [
       "False"
      ]
     },
     "execution_count": 7,
     "metadata": {},
     "output_type": "execute_result"
    }
   ],
   "source": [
    "(x%2)==0"
   ]
  },
  {
   "cell_type": "code",
   "execution_count": 8,
   "id": "3d6b62e8",
   "metadata": {
    "scrolled": true
   },
   "outputs": [
    {
     "data": {
      "text/plain": [
       "False"
      ]
     },
     "execution_count": 8,
     "metadata": {},
     "output_type": "execute_result"
    }
   ],
   "source": [
    "x>100"
   ]
  },
  {
   "cell_type": "markdown",
   "id": "fa67c82c",
   "metadata": {},
   "source": [
    "# Aula 5 - Estruturas Sequenciais"
   ]
  },
  {
   "cell_type": "code",
   "execution_count": 9,
   "id": "94ea0f2f",
   "metadata": {},
   "outputs": [
    {
     "name": "stdout",
     "output_type": "stream",
     "text": [
      "Informe sua idade: 27\n"
     ]
    }
   ],
   "source": [
    "idade = input(\"Informe sua idade: \")"
   ]
  },
  {
   "cell_type": "code",
   "execution_count": 11,
   "id": "3055e253",
   "metadata": {},
   "outputs": [
    {
     "name": "stdout",
     "output_type": "stream",
     "text": [
      "sua idade é: 27\n"
     ]
    }
   ],
   "source": [
    "print(\"sua idade é:\", idade)"
   ]
  },
  {
   "cell_type": "code",
   "execution_count": 10,
   "id": "54309214",
   "metadata": {},
   "outputs": [
    {
     "name": "stdout",
     "output_type": "stream",
     "text": [
      "27 <class 'str'>\n"
     ]
    }
   ],
   "source": [
    "print(idade, type(idade))"
   ]
  },
  {
   "cell_type": "markdown",
   "id": "7ff90b18",
   "metadata": {},
   "source": [
    "obs: o tipo sempre será string"
   ]
  },
  {
   "cell_type": "code",
   "execution_count": 12,
   "id": "53ab00c6",
   "metadata": {},
   "outputs": [
    {
     "name": "stdout",
     "output_type": "stream",
     "text": [
      "Digite o valor do seu salário mensal: 1500\n"
     ]
    }
   ],
   "source": [
    "salario_mensal = float(input(\"Digite o valor do seu salário mensal: \"))"
   ]
  },
  {
   "cell_type": "code",
   "execution_count": 13,
   "id": "40a5766f",
   "metadata": {},
   "outputs": [
    {
     "name": "stdout",
     "output_type": "stream",
     "text": [
      "Digite o valor do seu gasto mensal: 1300\n"
     ]
    }
   ],
   "source": [
    "gasto_mensal = float(input(\"Digite o valor do seu gasto mensal: \"))"
   ]
  },
  {
   "cell_type": "code",
   "execution_count": 14,
   "id": "8ad4a774",
   "metadata": {},
   "outputs": [],
   "source": [
    "salario_total = salario_mensal*12"
   ]
  },
  {
   "cell_type": "code",
   "execution_count": 15,
   "id": "fb3c970f",
   "metadata": {},
   "outputs": [],
   "source": [
    "gasto_total = gasto_mensal*12"
   ]
  },
  {
   "cell_type": "code",
   "execution_count": 16,
   "id": "43827e73",
   "metadata": {},
   "outputs": [],
   "source": [
    "montante_economizado = salario_total - gasto_total"
   ]
  },
  {
   "cell_type": "code",
   "execution_count": 17,
   "id": "1dafe5fc",
   "metadata": {
    "scrolled": true
   },
   "outputs": [
    {
     "name": "stdout",
     "output_type": "stream",
     "text": [
      "O montante que você pode economizar ao final de um ano é de : 2400.0\n"
     ]
    }
   ],
   "source": [
    "print(\"O montante que você pode economizar ao final de um ano é de :\", montante_economizado)"
   ]
  },
  {
   "cell_type": "markdown",
   "id": "687c7919",
   "metadata": {},
   "source": [
    "Exercícios:"
   ]
  },
  {
   "cell_type": "markdown",
   "id": "56bb676a",
   "metadata": {},
   "source": [
    "https://discord.com/channels/867748958201315328/956238049384226827/958774411849248780"
   ]
  },
  {
   "cell_type": "code",
   "execution_count": 40,
   "id": "a6ccc7ed",
   "metadata": {},
   "outputs": [
    {
     "name": "stdout",
     "output_type": "stream",
     "text": [
      "M - masculino ou F - feminino: F\n"
     ]
    }
   ],
   "source": [
    "genero = input(\"M - masculino ou F - feminino: \")"
   ]
  },
  {
   "cell_type": "code",
   "execution_count": 41,
   "id": "a12b940c",
   "metadata": {},
   "outputs": [
    {
     "name": "stdout",
     "output_type": "stream",
     "text": [
      "idade: 70\n"
     ]
    }
   ],
   "source": [
    "idade = int(input(\"idade: \"))"
   ]
  },
  {
   "cell_type": "code",
   "execution_count": 42,
   "id": "f4703db4",
   "metadata": {},
   "outputs": [
    {
     "name": "stdout",
     "output_type": "stream",
     "text": [
      "tempo de contribuição: 13\n"
     ]
    }
   ],
   "source": [
    "tContribuicao = int(input(\"tempo de contribuição: \"))"
   ]
  },
  {
   "cell_type": "code",
   "execution_count": 43,
   "id": "2a10aed3",
   "metadata": {},
   "outputs": [],
   "source": [
    "resposta = (genero == 'M' and (( idade >= 65 and tContribuicao>= 10 )or(idade >= 63 and tContribuicao>= 15))) or (genero == 'F' and (( idade >= 63 and tContribuicao>= 10 )or(idade >= 61 and tContribuicao>= 15)))"
   ]
  },
  {
   "cell_type": "code",
   "execution_count": 46,
   "id": "2bed8a4d",
   "metadata": {},
   "outputs": [
    {
     "name": "stdout",
     "output_type": "stream",
     "text": [
      "Aposentável\n"
     ]
    }
   ],
   "source": [
    "if resposta == True:\n",
    "    print(\"Aposentável\")\n",
    "else: \n",
    "    print(\"Não Aposentável\")"
   ]
  },
  {
   "cell_type": "markdown",
   "id": "3ca51680",
   "metadata": {},
   "source": [
    "# Aula 6 - Estruturas Condicionais"
   ]
  },
  {
   "cell_type": "code",
   "execution_count": 49,
   "id": "13414439",
   "metadata": {},
   "outputs": [
    {
     "name": "stdout",
     "output_type": "stream",
     "text": [
      "Valor Passagem: 1\n",
      "Valor Corrida: 5.5\n",
      "espere um pouco\n"
     ]
    }
   ],
   "source": [
    "valor_passagem = float(input(\"Valor Passagem: \"))\n",
    "valor_corrida = float(input(\"Valor Corrida: \"))"
   ]
  },
  {
   "cell_type": "code",
   "execution_count": 51,
   "id": "6555dd83",
   "metadata": {},
   "outputs": [
    {
     "name": "stdout",
     "output_type": "stream",
     "text": [
      "espere um pouco\n"
     ]
    }
   ],
   "source": [
    "if valor_corrida <= valor_passagem*5 :\n",
    "    print(\"pegue a corrida\")\n",
    "else:\n",
    "    if valor_corrida <= valor_passagem*6 :\n",
    "        print(\"espere um pouco\")\n",
    "    else:\n",
    "        print(\"pegue o ônibus\")"
   ]
  },
  {
   "cell_type": "markdown",
   "id": "b51716d7",
   "metadata": {},
   "source": [
    "usando elif"
   ]
  },
  {
   "cell_type": "code",
   "execution_count": 50,
   "id": "e927497a",
   "metadata": {},
   "outputs": [
    {
     "name": "stdout",
     "output_type": "stream",
     "text": [
      "espere um pouco\n"
     ]
    }
   ],
   "source": [
    "if valor_corrida <= valor_passagem*5 :\n",
    "    print(\"pegue a corrida\")\n",
    "elif valor_corrida <= valor_passagem*6 :\n",
    "    print(\"espere um pouco\")\n",
    "else:\n",
    "    print(\"pegue o ônibus\")"
   ]
  },
  {
   "cell_type": "markdown",
   "id": "18a687cd",
   "metadata": {},
   "source": [
    "# Aula 7 - Estruturas de Repetição: WHILE"
   ]
  },
  {
   "cell_type": "code",
   "execution_count": 54,
   "id": "0e5cfbf0",
   "metadata": {},
   "outputs": [
    {
     "name": "stdout",
     "output_type": "stream",
     "text": [
      "1 item  limpo.\n",
      "2 itens limpos.\n",
      "3 itens limpos.\n",
      "4 itens limpos.\n",
      "5 itens limpos.\n",
      "6 itens limpos.\n",
      "7 itens limpos.\n",
      "8 itens limpos.\n",
      "9 itens limpos.\n",
      "10 itens limpos.\n",
      "fim\n"
     ]
    }
   ],
   "source": [
    "contador = 0\n",
    "while contador <10:\n",
    "    contador = contador +1\n",
    "    if contador == 1:\n",
    "        print(contador,'item  limpo.')\n",
    "    else:\n",
    "        print(contador,'itens limpos.')\n",
    "print(\"fim\")"
   ]
  },
  {
   "cell_type": "code",
   "execution_count": 56,
   "id": "a28a195e",
   "metadata": {},
   "outputs": [
    {
     "name": "stdout",
     "output_type": "stream",
     "text": [
      "1 item  limpo.\n",
      "2 itens limpos.\n",
      "3 itens limpos.\n",
      "4 itens limpos.\n",
      "5 itens limpos.\n",
      "6 itens limpos.\n",
      "7 itens limpos.\n",
      "8 itens limpos.\n",
      "9 itens limpos.\n",
      "10 itens limpos.\n",
      "fim\n"
     ]
    }
   ],
   "source": [
    "contador = 0\n",
    "while True:\n",
    "    if contador < 10:\n",
    "        contador = contador +1\n",
    "        if contador == 1:\n",
    "            print(contador,'item  limpo.')\n",
    "        else:\n",
    "            print(contador,'itens limpos.')\n",
    "    else: break\n",
    "print(\"fim\")"
   ]
  },
  {
   "cell_type": "code",
   "execution_count": 57,
   "id": "0c6269ef",
   "metadata": {},
   "outputs": [
    {
     "name": "stdout",
     "output_type": "stream",
     "text": [
      "Digite sua senha: 24\n",
      "Senha Inválida. tente novamenteLetsCode\n",
      "Acesso permitido\n"
     ]
    }
   ],
   "source": [
    "texto = input(\"Digite sua senha: \")\n",
    "while texto != \"LetsCode\":\n",
    "    texto = input('Senha Inválida. tente novamente')\n",
    "print(\"Acesso permitido\")"
   ]
  },
  {
   "cell_type": "code",
   "execution_count": 60,
   "id": "876ab68b",
   "metadata": {},
   "outputs": [
    {
     "name": "stdout",
     "output_type": "stream",
     "text": [
      "2 itens limpos.\n",
      "3 itens limpos.\n",
      "4 itens limpos.\n",
      "5 itens limpos.\n",
      "6 itens limpos.\n",
      "7 itens limpos.\n",
      "8 itens limpos.\n",
      "9 itens limpos.\n",
      "10 itens limpos.\n",
      "fim\n"
     ]
    }
   ],
   "source": [
    "contador = 0\n",
    "while contador <10:\n",
    "    contador += 1 # outro modo de somar\n",
    "    if contador == 1:\n",
    "        continue # pulas as linhas seguintes\n",
    "    else:\n",
    "        print(contador,'itens limpos.')\n",
    "print(\"fim\")"
   ]
  },
  {
   "cell_type": "markdown",
   "id": "950435cb",
   "metadata": {},
   "source": [
    "Exercício:\n",
    "https://discord.com/channels/867748958201315328/956238049384226827/959144149595078697"
   ]
  },
  {
   "cell_type": "code",
   "execution_count": 61,
   "id": "423a78db",
   "metadata": {},
   "outputs": [
    {
     "name": "stdout",
     "output_type": "stream",
     "text": [
      "M - masculino ou F - feminino: F\n",
      "Altura1.6\n"
     ]
    }
   ],
   "source": [
    "genero = input(\"M - masculino ou F - feminino: \")\n",
    "altura = float(input(\"Altura\"))"
   ]
  },
  {
   "cell_type": "code",
   "execution_count": 68,
   "id": "33070628",
   "metadata": {},
   "outputs": [
    {
     "name": "stdout",
     "output_type": "stream",
     "text": [
      "Seu peso ideal é:  54.66\n"
     ]
    }
   ],
   "source": [
    "if genero == 'M':\n",
    "    print(\"Seu peso ideal é: \",round( 72.7*altura - 58, 2))\n",
    "else:\n",
    "    print(\"Seu peso ideal é: \", round(62.1*altura - 44.7, 2))"
   ]
  },
  {
   "cell_type": "markdown",
   "id": "fc3f5e04",
   "metadata": {},
   "source": [
    "https://discord.com/channels/867748958201315328/956238049384226827/959498645349208124"
   ]
  },
  {
   "cell_type": "code",
   "execution_count": 74,
   "id": "b7c6b032",
   "metadata": {
    "scrolled": false
   },
   "outputs": [
    {
     "name": "stdout",
     "output_type": "stream",
     "text": [
      "qto vc ganha/h: 20\n",
      "qtas horas vc trabalha por mês? 40\n",
      "\n",
      " + Salário Bruto: R$  800.0 \n",
      " - IR (11%): R$  88.0 \n",
      " - INSS (8%): R$  64.0 \n",
      " - Sindicado (5%): R$  40.0 \n",
      " = Salário Líquido: R$  608.0\n"
     ]
    }
   ],
   "source": [
    "salario = float(input(\"qto vc ganha/h: \"))\n",
    "horas = float(input(\"qtas horas vc trabalha por mês? \"))\n",
    "salariomes = salario*horas\n",
    "ir = salariomes*11/100\n",
    "inss = salariomes*8/100\n",
    "sindicado = salariomes*5/100\n",
    "\n",
    "print(\"\\n\", \"+ Salário Bruto: R$ \", salariomes, \n",
    "      \"\\n\", \"- IR (11%): R$ \", ir,\n",
    "      \"\\n\", \"- INSS (8%): R$ \", inss,\n",
    "      \"\\n\", \"- Sindicado (5%): R$ \", sindicado,\n",
    "      \"\\n\", \"= Salário Líquido: R$ \", salariomes-ir-inss-sindicado)\n",
    "              "
   ]
  },
  {
   "cell_type": "markdown",
   "id": "aff947fb",
   "metadata": {},
   "source": [
    "# Lista de Exercícios - PYTHON"
   ]
  },
  {
   "cell_type": "markdown",
   "id": "e2192a68",
   "metadata": {},
   "source": [
    "Questão 1.\n",
    "    \n",
    "Faça um programa que peça ao usuário um número e imprima todos os números de um até o\n",
    "número que o usuário informar."
   ]
  },
  {
   "cell_type": "code",
   "execution_count": 76,
   "id": "3d78a828",
   "metadata": {
    "scrolled": true
   },
   "outputs": [
    {
     "name": "stdout",
     "output_type": "stream",
     "text": [
      "informe um número5\n",
      "1\n",
      "2\n",
      "3\n",
      "4\n",
      "5\n"
     ]
    }
   ],
   "source": [
    "numero = int(input('informe um número'))\n",
    "n= 0\n",
    "while n < numero:\n",
    "    n+=1\n",
    "    print(n)"
   ]
  },
  {
   "cell_type": "markdown",
   "id": "0afb44b5",
   "metadata": {},
   "source": [
    "escrita de arquivo"
   ]
  },
  {
   "cell_type": "code",
   "execution_count": 81,
   "id": "06f1d491",
   "metadata": {},
   "outputs": [],
   "source": [
    "with open('arquivo_teste.txt', 'w', encoding='utf-8') as arquivo:\n",
    "    arquivo.write(\"teste\\n\")\n",
    "    arquivo.write(\"teste 2 \\n\")"
   ]
  },
  {
   "cell_type": "code",
   "execution_count": 82,
   "id": "8d16dc48",
   "metadata": {},
   "outputs": [
    {
     "name": "stdout",
     "output_type": "stream",
     "text": [
      "teste\n",
      "teste 2 \n"
     ]
    }
   ],
   "source": [
    "with open('arquivo_teste.txt', 'r', encoding='utf-8') as arquivo:\n",
    "    print(arquivo.read(), end='')"
   ]
  },
  {
   "cell_type": "code",
   "execution_count": 83,
   "id": "b13d78a1",
   "metadata": {},
   "outputs": [],
   "source": [
    "with open('arquivo_teste.txt', 'a', encoding='utf-8') as arquivo:\n",
    "    arquivo.write(\"teste add\\n\")"
   ]
  },
  {
   "cell_type": "code",
   "execution_count": 84,
   "id": "cf285d5e",
   "metadata": {},
   "outputs": [
    {
     "name": "stdout",
     "output_type": "stream",
     "text": [
      "teste\n",
      "teste 2 \n",
      "teste add\n"
     ]
    }
   ],
   "source": [
    "with open('arquivo_teste.txt', 'r', encoding='utf-8') as arquivo:\n",
    "    print(arquivo.read(), end='')"
   ]
  },
  {
   "cell_type": "code",
   "execution_count": 85,
   "id": "fb35e9e2",
   "metadata": {},
   "outputs": [],
   "source": [
    "import csv"
   ]
  },
  {
   "cell_type": "code",
   "execution_count": 87,
   "id": "be41b6a0",
   "metadata": {},
   "outputs": [],
   "source": [
    "with open('users.csv', 'w', encoding = 'utf-8', newline='') as arquivo_users:\n",
    "    escritor = csv.writer(arquivo_users)\n",
    "    escritor.writerow(['nome','sobrenome','email','genero'])\n",
    "    escritor.writerow(['amanda','souza','@email.com','F'])"
   ]
  },
  {
   "cell_type": "code",
   "execution_count": 89,
   "id": "a92aaf60",
   "metadata": {},
   "outputs": [
    {
     "name": "stdout",
     "output_type": "stream",
     "text": [
      "['nome', 'sobrenome', 'email', 'genero']\n",
      "['amanda', 'souza', '@email.com', 'F']\n"
     ]
    }
   ],
   "source": [
    "with open('users.csv', 'r', encoding='utf-8') as arquivo_csv:\n",
    "    leitor=csv.reader(arquivo_csv)\n",
    "    for linha in leitor:\n",
    "        print(linha)"
   ]
  },
  {
   "cell_type": "markdown",
   "id": "e4125ec3",
   "metadata": {},
   "source": [
    "Exemplo"
   ]
  },
  {
   "cell_type": "code",
   "execution_count": 94,
   "id": "7786bb39",
   "metadata": {},
   "outputs": [
    {
     "name": "stdout",
     "output_type": "stream",
     "text": [
      "O que deseja fazer?\n",
      "1 - cadastrar\n",
      "0 - sair\n",
      "1\n",
      "NOME: noem1\n",
      "SOBRENOME: sobre1\n",
      "O que deseja fazer?\n",
      "1 - cadastrar\n",
      "0 - sair\n",
      "1\n",
      "NOME: nome2\n",
      "SOBRENOME: sobre2\n",
      "O que deseja fazer?\n",
      "1 - cadastrar\n",
      "0 - sair\n",
      "1\n",
      "NOME: nome3\n",
      "SOBRENOME: sobre3\n",
      "O que deseja fazer?\n",
      "1 - cadastrar\n",
      "0 - sair\n",
      "0\n",
      "[['noem1', 'sobre1'], ['nome2', 'sobre2'], ['nome3', 'sobre3']]\n"
     ]
    }
   ],
   "source": [
    "header = ['nome', 'sobrenome']\n",
    "dados = []\n",
    "opt = input(\"O que deseja fazer?\\n1 - cadastrar\\n0 - sair\\n\")\n",
    "while opt !='0':\n",
    "    nome=input(\"NOME: \")\n",
    "    sobrenome=input(\"SOBRENOME: \")\n",
    "    dados.append([nome, sobrenome])\n",
    "    opt= input(\"O que deseja fazer?\\n1 - cadastrar\\n0 - sair\\n\")\n",
    "\n",
    "print(dados)\n"
   ]
  },
  {
   "cell_type": "code",
   "execution_count": 91,
   "id": "17df256a",
   "metadata": {},
   "outputs": [],
   "source": [
    "with open('users.csv', 'w', newline='') as arquivo_csv:\n",
    "    writer = csv.writer(arquivo_csv)\n",
    "    writer.writerow(header)\n",
    "    writer.writerow(dados)    "
   ]
  },
  {
   "cell_type": "code",
   "execution_count": 93,
   "id": "263f9f0c",
   "metadata": {},
   "outputs": [
    {
     "name": "stdout",
     "output_type": "stream",
     "text": [
      "['nome', 'sobrenome']\n",
      "[\"['amanda', 'souza']\", \"['outra amanda', 'outra souza']\"]\n"
     ]
    }
   ],
   "source": [
    "with open('users.csv', 'r', newline='') as csv_file:\n",
    "    csv_reader = csv.reader(csv_file, delimiter = ',')\n",
    "    for row in csv_reader:\n",
    "        print(row)"
   ]
  },
  {
   "cell_type": "markdown",
   "id": "e09b5d50",
   "metadata": {},
   "source": [
    "# aula API"
   ]
  },
  {
   "cell_type": "code",
   "execution_count": 95,
   "id": "7ba4965a",
   "metadata": {},
   "outputs": [
    {
     "name": "stdout",
     "output_type": "stream",
     "text": [
      "Requirement already satisfied: requests in c:\\programdata\\anaconda3\\lib\\site-packages (2.25.1)\n",
      "Requirement already satisfied: idna<3,>=2.5 in c:\\programdata\\anaconda3\\lib\\site-packages (from requests) (2.10)\n",
      "Requirement already satisfied: urllib3<1.27,>=1.21.1 in c:\\programdata\\anaconda3\\lib\\site-packages (from requests) (1.26.4)\n",
      "Requirement already satisfied: certifi>=2017.4.17 in c:\\programdata\\anaconda3\\lib\\site-packages (from requests) (2020.12.5)\n",
      "Requirement already satisfied: chardet<5,>=3.0.2 in c:\\programdata\\anaconda3\\lib\\site-packages (from requests) (4.0.0)\n"
     ]
    }
   ],
   "source": [
    "!pip install requests"
   ]
  },
  {
   "cell_type": "code",
   "execution_count": 96,
   "id": "5fe9d414",
   "metadata": {},
   "outputs": [],
   "source": [
    "import requests"
   ]
  },
  {
   "cell_type": "code",
   "execution_count": 98,
   "id": "e9a8f1be",
   "metadata": {},
   "outputs": [
    {
     "name": "stdout",
     "output_type": "stream",
     "text": [
      "tudo ok\n"
     ]
    }
   ],
   "source": [
    "url = 'https://api.exchangerate-api.com/v6/latest'\n",
    "req = requests.get(url)\n",
    "if int(req.status_code)== 200:\n",
    "    print(\"tudo ok\")"
   ]
  },
  {
   "cell_type": "code",
   "execution_count": 100,
   "id": "d597fed5",
   "metadata": {},
   "outputs": [],
   "source": [
    "dados = req.json()\n",
    "#print(dados)"
   ]
  },
  {
   "cell_type": "code",
   "execution_count": 102,
   "id": "0e68a77e",
   "metadata": {},
   "outputs": [
    {
     "name": "stdout",
     "output_type": "stream",
     "text": [
      "informe o valor em reais a ser convertido\n",
      "50\n",
      "R$50.0 em dólar valem US$ 9.64\n"
     ]
    }
   ],
   "source": [
    "valor_reais = float(input(\"informe o valor em reais a ser convertido\\n\"))\n",
    "\n",
    "cotacao = dados['rates']['BRL']\n",
    "print(f'R${valor_reais} em dólar valem US$ {valor_reais/cotacao:.2f}')"
   ]
  },
  {
   "cell_type": "markdown",
   "id": "79dc92bc",
   "metadata": {},
   "source": [
    "Exercício:\n",
    "    \n",
    "    https://discord.com/channels/867748958201315328/956238049384226827/1009879330442195096"
   ]
  },
  {
   "cell_type": "code",
   "execution_count": 97,
   "id": "a0670852",
   "metadata": {},
   "outputs": [],
   "source": [
    "def nreps(v):\n",
    "    vaux=[]\n",
    "    while len(v)!=0:\n",
    "        if(vaux):\n",
    "            vaux=[]\n",
    "        n = v[0]\n",
    "        contador =0\n",
    "        for i in v:   \n",
    "            if(n == i):\n",
    "                #print(v[i])\n",
    "                #print(i)\n",
    "                contador+=1\n",
    "            else:\n",
    "                vaux.append(i)\n",
    "        if(contador>1):\n",
    "            v = v[1:]\n",
    "            print(\"Número \", n, \":\", contador, \"vezes\")\n",
    "        v= vaux"
   ]
  },
  {
   "cell_type": "code",
   "execution_count": 101,
   "id": "316d5c6f",
   "metadata": {},
   "outputs": [
    {
     "name": "stdout",
     "output_type": "stream",
     "text": [
      "Número  0 : 2 vezes\n",
      "Número  2 : 3 vezes\n",
      "Número  1 : 4 vezes\n",
      "Número  3 : 5 vezes\n",
      "Número  4 : 3 vezes\n"
     ]
    }
   ],
   "source": [
    "vteste = [0,0,9,2,1,1,3,4,5,2,3,3,3,1,4,6,3,1,2,4]\n",
    "nreps(vteste)"
   ]
  },
  {
   "cell_type": "markdown",
   "id": "385ab925",
   "metadata": {},
   "source": [
    "Exercício:\n",
    "    https://discord.com/channels/867748958201315328/956238049384226827/1009514929704947884"
   ]
  },
  {
   "cell_type": "code",
   "execution_count": 114,
   "id": "408e4cc8",
   "metadata": {},
   "outputs": [
    {
     "name": "stdout",
     "output_type": "stream",
     "text": [
      "Informe o valor do produto:\t 10\n",
      "\n",
      " Valor de venda: \t \t 14.5\n"
     ]
    }
   ],
   "source": [
    "produto = float(input(\"Informe o valor do produto:\\t \"))\n",
    "if(produto< 30):\n",
    "    print(\"\\n\", \"Valor de venda: \\t \\t\", produto*(1+45/100))\n",
    "else:\n",
    "    print(\"\\n\", \"Valor de venda: \\t \\t\", produto*(1+30/100))"
   ]
  },
  {
   "cell_type": "markdown",
   "id": "3f480cf5",
   "metadata": {},
   "source": [
    "Exercício:\n",
    "    https://discord.com/channels/867748958201315328/956238049384226827/1007729201077559376\n",
    "        "
   ]
  },
  {
   "cell_type": "code",
   "execution_count": 115,
   "id": "02c9189f",
   "metadata": {},
   "outputs": [],
   "source": [
    "valores = {\"MG\": 7,\n",
    "          \"SP\": 12,\n",
    "          \"RJ\": 15,\n",
    "          \"MS\": 8,\n",
    "          \"ES\": 12,\n",
    "          \"SC\": 18}"
   ]
  },
  {
   "cell_type": "code",
   "execution_count": 141,
   "id": "45a19fed",
   "metadata": {},
   "outputs": [
    {
     "name": "stdout",
     "output_type": "stream",
     "text": [
      "Informe o estado:\tsp\n",
      "Valor do Produto: \t100\n",
      "O produto de R$ 100.00, acrescido do imposto do estado do SP de 12%, ficará R$ 112.00\n"
     ]
    }
   ],
   "source": [
    "estado = input(\"Informe o estado:\\t\").upper()\n",
    "valorprod = float(input(\"Valor do Produto: \\t\"))\n",
    "print(\"O produto de R$ {:.2f}, acrescido do imposto do estado do {} de {}%, ficará R$ {:.2f}\".format(valorprod, estado, valores[estado], valorprod*(1+valores[estado]/100) ))"
   ]
  }
 ],
 "metadata": {
  "kernelspec": {
   "display_name": "Python 3",
   "language": "python",
   "name": "python3"
  },
  "language_info": {
   "codemirror_mode": {
    "name": "ipython",
    "version": 3
   },
   "file_extension": ".py",
   "mimetype": "text/x-python",
   "name": "python",
   "nbconvert_exporter": "python",
   "pygments_lexer": "ipython3",
   "version": "3.8.8"
  }
 },
 "nbformat": 4,
 "nbformat_minor": 5
}
