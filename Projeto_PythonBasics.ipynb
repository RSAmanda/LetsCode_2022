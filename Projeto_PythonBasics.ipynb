{
 "cells": [
  {
   "cell_type": "code",
   "execution_count": null,
   "id": "ac777307",
   "metadata": {},
   "outputs": [],
   "source": [
    "import requests as r"
   ]
  },
  {
   "cell_type": "code",
   "execution_count": null,
   "id": "35fb8eac",
   "metadata": {},
   "outputs": [],
   "source": [
    "tabela = {\n",
    "    'Maria': {'Nota 1': 5, 'Nota 2': 6.5},\n",
    "    'Pedro': {'Nota 1': 8, 'Nota 2': 10},\n",
    "    'Rafael': {'Nota 1': 9, 'Nota 2': 7.5}\n",
    "    }"
   ]
  },
  {
   "cell_type": "code",
   "execution_count": null,
   "id": "4c582132",
   "metadata": {},
   "outputs": [],
   "source": [
    "print(tabela['Rafael']['Nota 2'])"
   ]
  },
  {
   "cell_type": "code",
   "execution_count": null,
   "id": "0faec29c",
   "metadata": {},
   "outputs": [],
   "source": [
    "frutas = ['abacaxi', 'banana', 'caqui', 'figo', 'goiaba']"
   ]
  },
  {
   "cell_type": "code",
   "execution_count": null,
   "id": "fc167e90",
   "metadata": {},
   "outputs": [],
   "source": [
    "x = frutas.pop(2)"
   ]
  },
  {
   "cell_type": "code",
   "execution_count": null,
   "id": "df168643",
   "metadata": {
    "scrolled": true
   },
   "outputs": [],
   "source": [
    "print(frutas, x)"
   ]
  },
  {
   "cell_type": "code",
   "execution_count": null,
   "id": "077e8db3",
   "metadata": {},
   "outputs": [],
   "source": [
    "A = int(input('Digite um número: '))\n",
    "B = int(input('Digite outro número, maior que o primeiro: '))\n",
    "\n",
    "aux = A\n",
    "soma = 0\n",
    "\n",
    "while A <= B:\n",
    "    soma = soma + aux\n",
    "    aux = aux + 1\n",
    "\n",
    "print(soma)"
   ]
  },
  {
   "cell_type": "code",
   "execution_count": null,
   "id": "72752d33",
   "metadata": {},
   "outputs": [],
   "source": []
  },
  {
   "cell_type": "code",
   "execution_count": null,
   "id": "e549374f",
   "metadata": {},
   "outputs": [],
   "source": [
    "url = 'https://api.covid19api.com/dayone/country/brazil'\n",
    "req = r.get(url)\n",
    "if int(req.status_code)== 200:\n",
    "    print(\"tudo ok\")"
   ]
  },
  {
   "cell_type": "code",
   "execution_count": null,
   "id": "37afb8e6",
   "metadata": {},
   "outputs": [],
   "source": [
    "raw_data = req.json()"
   ]
  },
  {
   "cell_type": "code",
   "execution_count": null,
   "id": "83cb337d",
   "metadata": {
    "scrolled": true
   },
   "outputs": [],
   "source": [
    "raw_data[0] # "
   ]
  },
  {
   "cell_type": "code",
   "execution_count": null,
   "id": "fc13f60e",
   "metadata": {},
   "outputs": [],
   "source": [
    "final_data = []\n",
    "for obs in raw_data:\n",
    "    final_data.append([obs['Confirmed'],obs['Deaths'],obs['Recovered'],obs['Active'],obs['Date']])"
   ]
  },
  {
   "cell_type": "code",
   "execution_count": null,
   "id": "39102413",
   "metadata": {},
   "outputs": [],
   "source": [
    "final_data.insert(0, [\"Confirmados\", \"Óbitos\", \"Recuperados\", \"Ativos\", \"Data\"])"
   ]
  },
  {
   "cell_type": "code",
   "execution_count": null,
   "id": "71f66a9a",
   "metadata": {},
   "outputs": [],
   "source": [
    "final_data"
   ]
  },
  {
   "cell_type": "code",
   "execution_count": null,
   "id": "3a65da5e",
   "metadata": {},
   "outputs": [],
   "source": [
    "CONFIRMADOS  = 0\n",
    "OBITOS       = 1\n",
    "RECUPERADOS  = 2\n",
    "ATIVOS       = 3\n",
    "DATA         = 4"
   ]
  },
  {
   "cell_type": "code",
   "execution_count": null,
   "id": "8455316e",
   "metadata": {},
   "outputs": [],
   "source": [
    "# sobrescrever informações \n",
    "for i in range(1, len(final_data)):\n",
    "    final_data[i][DATA] = final_data[i][DATA][:10]"
   ]
  },
  {
   "cell_type": "code",
   "execution_count": null,
   "id": "dd97f881",
   "metadata": {},
   "outputs": [],
   "source": [
    "final_data"
   ]
  },
  {
   "cell_type": "code",
   "execution_count": null,
   "id": "bfdee9b7",
   "metadata": {},
   "outputs": [],
   "source": [
    "import datetime as dt"
   ]
  },
  {
   "cell_type": "markdown",
   "id": "296845e4",
   "metadata": {},
   "source": [
    "exemplo de uso"
   ]
  },
  {
   "cell_type": "code",
   "execution_count": null,
   "id": "c4290565",
   "metadata": {},
   "outputs": [],
   "source": [
    "print(dt.time(12,6,21)) # hr, min, seg\n",
    "print(dt.date(2020,6,21)) # ano, mes, dia\n",
    "print(dt.datetime(2020,6,21,12,6,21, 2)) # ano, mes, dia, hr, min, seg, ms\n",
    "\n",
    "natal = dt.date(2020, 12, 25)\n",
    "reveillon = dt.date(2021, 1, 1)\n"
   ]
  },
  {
   "cell_type": "code",
   "execution_count": null,
   "id": "6a5b880f",
   "metadata": {},
   "outputs": [],
   "source": [
    "import csv"
   ]
  },
  {
   "cell_type": "code",
   "execution_count": null,
   "id": "6cca8f5f",
   "metadata": {},
   "outputs": [],
   "source": [
    "with open('brasil-covid.csv','w') as file:\n",
    "    writer = csv.writer(file)\n",
    "    writer.writerows(final_data)"
   ]
  },
  {
   "cell_type": "code",
   "execution_count": null,
   "id": "831a0f01",
   "metadata": {},
   "outputs": [],
   "source": [
    "for i in range(1, len(final_data)):\n",
    "    final_data[i][DATA] = dt.datetime.strptime(final_data[i][DATA], '%Y-%m-%d')"
   ]
  },
  {
   "cell_type": "code",
   "execution_count": null,
   "id": "264a288e",
   "metadata": {},
   "outputs": [],
   "source": [
    "final_data"
   ]
  },
  {
   "cell_type": "markdown",
   "id": "62d8b719",
   "metadata": {},
   "source": [
    "aula 2 projeto"
   ]
  },
  {
   "cell_type": "code",
   "execution_count": null,
   "id": "1a4c30ed",
   "metadata": {},
   "outputs": [],
   "source": [
    "def get_datasets(y, labels):\n",
    "    if type(y[0]) == list:\n",
    "        datasets = []\n",
    "        for i in range(len(y)):\n",
    "            datasets.append({\n",
    "                'label': labels[i],\n",
    "                'data': y[i]\n",
    "            })\n",
    "        return datasets\n",
    "    else:\n",
    "        return[\n",
    "            {\n",
    "                'label': labels[0],\n",
    "                'data':y\n",
    "            }\n",
    "        ]"
   ]
  },
  {
   "cell_type": "code",
   "execution_count": null,
   "id": "a792e2c9",
   "metadata": {},
   "outputs": [],
   "source": [
    "def set_title(title=''):\n",
    "    if title != '':\n",
    "        display = 'true'\n",
    "    else:\n",
    "        display = 'false'\n",
    "    return{\n",
    "        'title:': title,\n",
    "        'display': display\n",
    "    }"
   ]
  },
  {
   "cell_type": "code",
   "execution_count": null,
   "id": "dbaf683f",
   "metadata": {},
   "outputs": [],
   "source": [
    "def create_chart(x, y, labels, kind= 'bar', title=''):\n",
    "    \n",
    "    datasets = get_datasets(y, labels)\n",
    "    options = set_title(title)\n",
    "    \n",
    "    chart = {\n",
    "        'type': kind,\n",
    "        'data': {\n",
    "            'labels': x,\n",
    "            'datasets': datasets\n",
    "        },\n",
    "        'options': options\n",
    "    }\n",
    "    \n",
    "    return chart"
   ]
  },
  {
   "cell_type": "code",
   "execution_count": null,
   "id": "db6e0f30",
   "metadata": {},
   "outputs": [],
   "source": [
    "def get_api_chart(chart):\n",
    "    url_base = \"https://quickchart.io/chart\"\n",
    "    resp = r.get(f'{url_base}?c={str(chart)}')\n",
    "    return resp.content"
   ]
  },
  {
   "cell_type": "code",
   "execution_count": null,
   "id": "b8b16e49",
   "metadata": {},
   "outputs": [],
   "source": [
    "def save_image(path, content):\n",
    "    with open(path, 'wb') as image:\n",
    "        image.write(content)"
   ]
  },
  {
   "cell_type": "code",
   "execution_count": null,
   "id": "e018d6da",
   "metadata": {},
   "outputs": [],
   "source": [
    "from PIL import Image\n",
    "from IPython.display import display\n"
   ]
  },
  {
   "cell_type": "code",
   "execution_count": null,
   "id": "87e4d279",
   "metadata": {},
   "outputs": [],
   "source": [
    "def display_image(path):\n",
    "    img_pil = Image.open(path)\n",
    "    display(img_pil)"
   ]
  },
  {
   "cell_type": "code",
   "execution_count": null,
   "id": "16ecab32",
   "metadata": {
    "scrolled": true
   },
   "outputs": [],
   "source": [
    "#del(y_data_1)\n",
    "#del(y_data_2)\n",
    "#del(x)\n",
    "y_data_1 = []\n",
    "for obs in final_data[1::30]: # inicio na posição, pulando de 30 em 30\n",
    "    y_data_1.append(obs[CONFIRMADOS])\n",
    "\n",
    "y_data_2 = []\n",
    "for obs in final_data[1::30]: \n",
    "    y_data_2.append(obs[RECUPERADOS])\n",
    "    \n",
    "\n",
    "labels = ['Confirmados','Recuperados','Ativos']\n",
    "\n",
    "x = []\n",
    "for obs in final_data[1::30]:\n",
    "    x.append(obs[DATA].strftime('%d/%m/%Y'))\n",
    "    \n",
    "chart = create_chart(x, [y_data_1, y_data_2], labels, title='Gráfico confirmados vs recuperados')\n",
    "chart_content = get_api_chart(chart)\n",
    "\n",
    "save_image(\"meu-primeiro-grafico.png\", chart_content)\n",
    "display_image(\"meu-primeiro-grafico.png\")"
   ]
  },
  {
   "cell_type": "code",
   "execution_count": null,
   "id": "2ab63b35",
   "metadata": {},
   "outputs": [],
   "source": [
    "from urllib.parse import quote"
   ]
  },
  {
   "cell_type": "code",
   "execution_count": null,
   "id": "d41e5cd4",
   "metadata": {},
   "outputs": [],
   "source": [
    "def get_api_qrcode(link):\n",
    "    text = quote(link)\n",
    "    url_base = \"https://quickchart.io/qr\"\n",
    "    resp = r.get(f'{url_base}?text={text}')\n",
    "    return resp.content"
   ]
  },
  {
   "cell_type": "code",
   "execution_count": null,
   "id": "7685ab1d",
   "metadata": {},
   "outputs": [],
   "source": [
    "url_base = \"https://quickchart.io/chart\"\n",
    "link = f'{url_base}?c={str(chart)}'\n",
    "save_image('qr-code.png', get_api_qrcode(link))\n",
    "display_image('qr-code.png')"
   ]
  }
 ],
 "metadata": {
  "kernelspec": {
   "display_name": "Python 3",
   "language": "python",
   "name": "python3"
  },
  "language_info": {
   "codemirror_mode": {
    "name": "ipython",
    "version": 3
   },
   "file_extension": ".py",
   "mimetype": "text/x-python",
   "name": "python",
   "nbconvert_exporter": "python",
   "pygments_lexer": "ipython3",
   "version": "3.8.8"
  }
 },
 "nbformat": 4,
 "nbformat_minor": 5
}
