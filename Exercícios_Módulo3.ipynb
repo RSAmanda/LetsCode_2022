{
 "cells": [
  {
   "cell_type": "markdown",
   "id": "01e7bfbf",
   "metadata": {},
   "source": [
    "# Exercício 1"
   ]
  },
  {
   "cell_type": "markdown",
   "id": "b3e0fda2",
   "metadata": {},
   "source": [
    "1 - Neste exercício você deve criar um programa que abra o arquivo \"alunos.csv\" e imprima o conteúdo do arquivo linha a linha.\n",
    "\n",
    "\n",
    "Note que esse é o primeiro exercício de uma sequência, então o seu código pode ser reaproveitado nos exercícios seguintes. Dito isso, a recomendação é usar a biblioteca CSV para ler o arquivo mesmo que não seja realmente necessário para esse primeiro item."
   ]
  },
  {
   "cell_type": "code",
   "execution_count": 7,
   "id": "940bd9e8",
   "metadata": {},
   "outputs": [],
   "source": [
    "import csv"
   ]
  },
  {
   "cell_type": "code",
   "execution_count": 16,
   "id": "8477d2b9",
   "metadata": {
    "scrolled": true
   },
   "outputs": [
    {
     "name": "stdout",
     "output_type": "stream",
     "text": [
      "['RA', 'Nome', 'Frequencia', 'Prova_1', 'Prova_2', 'Prova_3', 'Prova_4']\n",
      "['110201', 'Antonio Carlos', '20', '6.5', '8.5', '7', '6']\n",
      "['110212', 'Ana Beatriz', '20', '7', '7', '7', '8']\n",
      "['110218', 'Carlos Vernes', '17', '7', '7', '7', '7']\n",
      "['110307', 'Francisco Cunha', '20', '9', '8.5', '8.5', '10']\n",
      "['110275', 'Sandra Rosa', '15', '6.5', '7.5', '7', '7']\n",
      "['110281', 'Juliana Arruda', '18', '7.5', '7', '7.5', '8']\n",
      "['110301', 'Joao Galo', '20', '5', '6.5', '7', '5']\n",
      "['110263', 'José Valente', '20', '10', '10', '10', '10']\n",
      "['110271', 'Maria Ferreira', '19', '9.5', '8', '7', '10']\n",
      "['110236', 'Adriana Tavares', '20', '8', '8', '8', '8']\n"
     ]
    }
   ],
   "source": [
    "with open(\"alunos.csv\", 'r', encoding='utf-8') as arquivo_csv:\n",
    "    leitor = csv.reader(arquivo_csv)\n",
    "    for linha in leitor:\n",
    "        print(linha)"
   ]
  },
  {
   "cell_type": "markdown",
   "id": "c31d376c",
   "metadata": {},
   "source": [
    "# Exercício 2"
   ]
  },
  {
   "cell_type": "markdown",
   "id": "24378651",
   "metadata": {},
   "source": [
    "Para o segundo exercício, você deve criar um programa que realize uma cópia do arquivo \"alunos.csv\".\n",
    "Essa cópia deve ser um arquivo chamado \"alunos_copia.csv\"."
   ]
  },
  {
   "cell_type": "code",
   "execution_count": 33,
   "id": "cc7aee8b",
   "metadata": {},
   "outputs": [],
   "source": [
    "with open(\"alunos.csv\", 'r', encoding='utf-8') as arquivo_csv:\n",
    "    leitor = csv.reader(arquivo_csv)\n",
    "    with open('alunos_copia.csv', 'a', encoding = 'utf-8', newline='') as arquivo_csv_copy:\n",
    "        for linha in leitor:\n",
    "            escritor = csv.writer(arquivo_csv_copy)\n",
    "            escritor.writerow(linha)\n"
   ]
  },
  {
   "cell_type": "markdown",
   "id": "a44f49a6",
   "metadata": {},
   "source": [
    "# Exercício 3"
   ]
  },
  {
   "cell_type": "markdown",
   "id": "43a96d34",
   "metadata": {},
   "source": [
    "Finalmente chegamos ao último exercício dessa sequência relacionada à manipulação de arquivos.\n",
    "\n",
    "Neste exercício você deve criar um novo arquivo chamado \"alunos_media.csv\". Esse novo arquivo é uma cópia de \"alunos.csv\" porém com uma coluna a mais chamada \"Média\" que vai abrigar os valores das médias das provas de cada aluno da lista.\n",
    "\n",
    "\n",
    "Se você utilizou a biblioteca CSV para realizar os dois primeiros exercícios, muito será reaproveitado aqui. A biblioteca CSV permite a interpretação de cada linha como listas, que são fáceis de manipular."
   ]
  },
  {
   "cell_type": "code",
   "execution_count": 26,
   "id": "242779a9",
   "metadata": {},
   "outputs": [
    {
     "data": {
      "text/plain": [
       "8.0"
      ]
     },
     "execution_count": 26,
     "metadata": {},
     "output_type": "execute_result"
    }
   ],
   "source": [
    "(float(linha[3])+float(linha[4])+float(linha[5])+float(linha[6]))/4"
   ]
  },
  {
   "cell_type": "code",
   "execution_count": 37,
   "id": "86d34f01",
   "metadata": {},
   "outputs": [],
   "source": [
    "with open(\"alunos_copia.csv\", 'r', encoding='utf-8') as arquivo_csv:\n",
    "    leitor = csv.reader(arquivo_csv)\n",
    "    header = next(leitor)\n",
    "    header.append(\"Média\")\n",
    "    with open('alunos_media.csv', 'w', encoding = 'utf-8', newline='') as arquivo_csv_media:\n",
    "        escritor = csv.writer(arquivo_csv_media)\n",
    "        escritor.writerow(header)\n",
    "        for linha in leitor:\n",
    "            linha.append((float(linha[3])+float(linha[4])+float(linha[5])+float(linha[6]))/4)\n",
    "            escritor = csv.writer(arquivo_csv_media)\n",
    "            escritor.writerow(linha)"
   ]
  },
  {
   "cell_type": "code",
   "execution_count": 29,
   "id": "cd1540ad",
   "metadata": {},
   "outputs": [],
   "source": [
    "linha.append(\"Média\")"
   ]
  },
  {
   "cell_type": "code",
   "execution_count": 35,
   "id": "068809bb",
   "metadata": {},
   "outputs": [
    {
     "name": "stdout",
     "output_type": "stream",
     "text": [
      "['RA', 'Nome', 'Frequencia', 'Prova_1', 'Prova_2', 'Prova_3', 'Prova_4', 'Média']\n",
      "['110201', 'Antonio Carlos', '20', '6.5', '8.5', '7', '6']\n",
      "['110212', 'Ana Beatriz', '20', '7', '7', '7', '8']\n",
      "['110218', 'Carlos Vernes', '17', '7', '7', '7', '7']\n",
      "['110307', 'Francisco Cunha', '20', '9', '8.5', '8.5', '10']\n",
      "['110275', 'Sandra Rosa', '15', '6.5', '7.5', '7', '7']\n",
      "['110281', 'Juliana Arruda', '18', '7.5', '7', '7.5', '8']\n",
      "['110301', 'Joao Galo', '20', '5', '6.5', '7', '5']\n",
      "['110263', 'José Valente', '20', '10', '10', '10', '10']\n",
      "['110271', 'Maria Ferreira', '19', '9.5', '8', '7', '10']\n",
      "['110236', 'Adriana Tavares', '20', '8', '8', '8', '8']\n"
     ]
    }
   ],
   "source": [
    "with open(\"alunos_media.csv\", 'r', encoding='utf-8') as arquivo_csv:\n",
    "    leitor = csv.reader(arquivo_csv)\n",
    "    for linha in leitor:\n",
    "        print(linha)"
   ]
  },
  {
   "cell_type": "code",
   "execution_count": 38,
   "id": "836b15a4",
   "metadata": {},
   "outputs": [
    {
     "name": "stdout",
     "output_type": "stream",
     "text": [
      "       RA             Nome  Frequencia  Prova_1  Prova_2  Prova_3  Prova_4  \\\n",
      "0  110201   Antonio Carlos          20      6.5      8.5      7.0        6   \n",
      "1  110212      Ana Beatriz          20      7.0      7.0      7.0        8   \n",
      "2  110218    Carlos Vernes          17      7.0      7.0      7.0        7   \n",
      "3  110307  Francisco Cunha          20      9.0      8.5      8.5       10   \n",
      "4  110275      Sandra Rosa          15      6.5      7.5      7.0        7   \n",
      "5  110281   Juliana Arruda          18      7.5      7.0      7.5        8   \n",
      "6  110301        Joao Galo          20      5.0      6.5      7.0        5   \n",
      "7  110263     José Valente          20     10.0     10.0     10.0       10   \n",
      "8  110271   Maria Ferreira          19      9.5      8.0      7.0       10   \n",
      "9  110236  Adriana Tavares          20      8.0      8.0      8.0        8   \n",
      "\n",
      "    Média  \n",
      "0   7.000  \n",
      "1   7.250  \n",
      "2   7.000  \n",
      "3   9.000  \n",
      "4   7.000  \n",
      "5   7.500  \n",
      "6   5.875  \n",
      "7  10.000  \n",
      "8   8.625  \n",
      "9   8.000  \n"
     ]
    }
   ],
   "source": [
    "# import pandas module \n",
    "import pandas as pd \n",
    "    \n",
    "# making dataframe \n",
    "df = pd.read_csv(\"alunos_media.csv\") \n",
    "   \n",
    "# output the dataframe\n",
    "print(df)"
   ]
  },
  {
   "cell_type": "markdown",
   "id": "677cdd4d",
   "metadata": {},
   "source": [
    "# Exercício 4"
   ]
  },
  {
   "cell_type": "markdown",
   "id": "bce4ead0",
   "metadata": {},
   "source": [
    "Você conhece Star Wars? Se trata, obviamente, da famosa saga espacial\n",
    "criada por George Lucas em 1977 e que deu origem a símbolos do cinema e\n",
    "da cultura pop com o imponente vilão Darth Vader ou o simpático robô\n",
    "R2-D2. A ideia desse exercício é justamente extrair informações do\n",
    "personagem Darth Vader através de uma API de Star Wars chamada SWAPI.\n",
    "\n",
    "Utilize a URL \"https://swapi.dev/api/people/4/\" para fazer a requisição dos\n",
    "dados de Darth Vader e extraia as informações \"name\" (nome), \"height\"\n",
    "(altura), \"mass\" (massa) e \"birth_year\" (ano de nascimento) e imprima cada\n",
    "dado em uma linha.\n",
    "\n",
    "Dica: caso não se lembre de como fazer isso, assista novamente a aula sobre\n",
    "API porque o exemplo da aula pode te ajudar."
   ]
  },
  {
   "cell_type": "code",
   "execution_count": 40,
   "id": "970e4162",
   "metadata": {},
   "outputs": [],
   "source": [
    "import requests"
   ]
  },
  {
   "cell_type": "code",
   "execution_count": 43,
   "id": "734f5ec0",
   "metadata": {},
   "outputs": [
    {
     "name": "stdout",
     "output_type": "stream",
     "text": [
      "tudo ok\n"
     ]
    }
   ],
   "source": [
    "url = 'https://swapi.dev/api/people/4/'\n",
    "req = requests.get(url)\n",
    "if int(req.status_code)== 200:\n",
    "    print(\"tudo ok\")"
   ]
  },
  {
   "cell_type": "code",
   "execution_count": 44,
   "id": "b1b431b7",
   "metadata": {},
   "outputs": [],
   "source": [
    "dados = req.json()"
   ]
  },
  {
   "cell_type": "code",
   "execution_count": 52,
   "id": "f7984b83",
   "metadata": {
    "scrolled": true
   },
   "outputs": [
    {
     "name": "stdout",
     "output_type": "stream",
     "text": [
      "Nome:  Darth Vader\n",
      "Altura:  202\n",
      "Massa:  136\n",
      "Ano de Nascimento:  41.9BBY\n"
     ]
    }
   ],
   "source": [
    "print(\"Nome: \",dados['name'])\n",
    "print(\"Altura: \",dados['height'])\n",
    "print(\"Massa: \",dados['mass'])\n",
    "print(\"Ano de Nascimento: \",dados['birth_year'])"
   ]
  },
  {
   "cell_type": "markdown",
   "id": "9b9b3972",
   "metadata": {},
   "source": [
    "# Exercício 5"
   ]
  },
  {
   "cell_type": "markdown",
   "id": "571c1422",
   "metadata": {},
   "source": [
    "Em 2019 surgiram os primeiros casos de COVID-19 que se alastrou pelo\n",
    "mundo resultando numa pandemia. A proposta deste exercício é utilizar\n",
    "uma API com informações de COVID-19 do mundo todo desde o início da\n",
    "proliferação e descobrir que dia o Brasil confirmou o primeiro caso de\n",
    "Coronavírus.\n",
    "\n",
    "Para fazer isso, utilize a URL \"https://api.covid19api.com/country/brazil\" em seu\n",
    "código. Ela retorna uma lista de dicionários, onde cada dicionário traz\n",
    "informações através das chaves:\n",
    "\n",
    "\"ID\", \"Country\", \"CountryCode\", \"Province\", \"City\",\n",
    "\"CityCode\",\"Lat\",\"Lon\",\"Confirmed\",\"Deaths\", \"Recovered\", \"Active\" e \"Date\".\n",
    "\n",
    "Utilize essas informações e retorne a data em que o Brasil confirmou o\n",
    "primeiro caso de COVID."
   ]
  },
  {
   "cell_type": "code",
   "execution_count": 80,
   "id": "3dabb11d",
   "metadata": {},
   "outputs": [
    {
     "name": "stdout",
     "output_type": "stream",
     "text": [
      "tudo ok\n"
     ]
    }
   ],
   "source": [
    "url = 'https://api.covid19api.com/country/brazil'\n",
    "req = requests.get(url)\n",
    "if int(req.status_code)== 200:\n",
    "    print(\"tudo ok\")"
   ]
  },
  {
   "cell_type": "code",
   "execution_count": 81,
   "id": "a978cecf",
   "metadata": {},
   "outputs": [],
   "source": [
    "dados = req.json()"
   ]
  },
  {
   "cell_type": "code",
   "execution_count": 100,
   "id": "0fb4438f",
   "metadata": {},
   "outputs": [
    {
     "name": "stdout",
     "output_type": "stream",
     "text": [
      "primeiro caso confirmado:  2020-02-26\n"
     ]
    }
   ],
   "source": [
    "contador = 0\n",
    "while True:\n",
    "    copia = dados[contador]\n",
    "    contador+=1\n",
    "    if copia['Confirmed'] != 0:\n",
    "        data = dt.datetime.strptime(copia['Date'][:10], '%Y-%m-%d')\n",
    "        print('primeiro caso confirmado: ',dt.datetime.date(data))\n",
    "        break"
   ]
  }
 ],
 "metadata": {
  "kernelspec": {
   "display_name": "Python 3",
   "language": "python",
   "name": "python3"
  },
  "language_info": {
   "codemirror_mode": {
    "name": "ipython",
    "version": 3
   },
   "file_extension": ".py",
   "mimetype": "text/x-python",
   "name": "python",
   "nbconvert_exporter": "python",
   "pygments_lexer": "ipython3",
   "version": "3.8.8"
  }
 },
 "nbformat": 4,
 "nbformat_minor": 5
}
